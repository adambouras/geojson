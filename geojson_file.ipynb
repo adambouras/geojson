{
 "cells": [
  {
   "cell_type": "code",
   "execution_count": 1,
   "metadata": {},
   "outputs": [],
   "source": [
    "import requests\n",
    "import pandas as pd\n",
    "import plotly.express as px\n",
    "from census_api import CENSUS_API_KEY\n",
    "import json\n",
    "import duckdb as db\n",
    "from ydata_profiling import ProfileReport\n",
    "from IPython.display import HTML"
   ]
  },
  {
   "cell_type": "markdown",
   "metadata": {},
   "source": [
    "#### Get all the data from census bureau api for state and state code"
   ]
  },
  {
   "cell_type": "code",
   "execution_count": 24,
   "metadata": {},
   "outputs": [],
   "source": [
    "# get the state and code\n",
    "# Step 1: Fetch U.S. Census data using the Census API\n",
    "api_key = CENSUS_API_KEY\n",
    "base_url = \"https://api.census.gov/data/2020/dec/pl\"\n",
    "params = {\n",
    "    'get': 'NAME,P1_001N',  # 'NAME' is state name, 'P1_001N' is total population\n",
    "    'for': 'state:*',       # Get data for all states\n",
    "    'key': api_key\n",
    "}\n",
    "\n",
    "response = requests.get(base_url, params=params)\n",
    "\n",
    "# Check if the request was successful\n",
    "if response.status_code == 200:\n",
    "    data = response.json()  # Parse JSON response\n",
    "else:\n",
    "    print(f\"Error: {response.status_code}, {response.text}\")\n",
    "    data = []\n",
    "\n",
    "# Step 2: Convert Census data into a DataFrame\n",
    "if data:\n",
    "    headers = data[0]  # The first row contains headers\n",
    "    rows = data[1:]    # The remaining rows contain the actual data\n",
    "    \n",
    "    # Create DataFrame\n",
    "    df1 = pd.DataFrame(rows, columns=headers)\n",
    "    # Rename columns for easier access\n",
    "    df1['State Code'] = df1['state'].astype('string').astype('category')\n",
    "    df1.rename(columns={'NAME': 'State', 'P1_001N': 'Population'}, inplace=True)\n",
    "    # Convert population to numeric (currently it's in string format)\n",
    "    df1['Population'] = pd.to_numeric(df1['Population'])\n",
    "    \n",
    "else:\n",
    "    print(\"No data available.\")"
   ]
  },
  {
   "cell_type": "markdown",
   "metadata": {},
   "source": [
    "##### get a subset of the data"
   ]
  },
  {
   "cell_type": "code",
   "execution_count": 25,
   "metadata": {},
   "outputs": [],
   "source": [
    "df_state = df1[['State', 'State Code']]"
   ]
  },
  {
   "cell_type": "code",
   "execution_count": 30,
   "metadata": {},
   "outputs": [],
   "source": [
    "\n",
    "def get_census_zipcode_data(year, dsource, cols, state, for_loop):\n",
    "    BASE_URL = f'https://api.census.gov/data/{year}/{dsource}?get={cols}&for={for_loop}:*&in=state:{state}&key={api_key}'\n",
    "    \"\"\"\n",
    "    Sends a GET request to the specified Census API URL and returns the response.\n",
    "    \n",
    "    Args:\n",
    "        BASE_URL (str): The URL for the Census API request, including the necessary parameters.\n",
    "    \n",
    "    Returns:\n",
    "        requests.Response: The response object from the Census API request.\n",
    "    \"\"\"\n",
    "    response = requests.get(BASE_URL)\n",
    "    if response.status_code == 200:\n",
    "            data = response.json()\n",
    "            df = pd.DataFrame(data[1:], columns=data[0]) # Skip the header row\n",
    "            df['B19013_001E'] = pd.to_numeric(df['B19013_001E'])\n",
    "            df.rename(columns={'zip code tabulation area': 'zipcode'}, inplace=True)\n",
    "            # print(df.head())\n",
    "    else:\n",
    "            print(f\"Error: {response.status_code} - {response.text}\")\n",
    "    return df"
   ]
  },
  {
   "cell_type": "code",
   "execution_count": 31,
   "metadata": {},
   "outputs": [],
   "source": [
    "def new_func():\n",
    "    year='2019'\n",
    "    dsource='acs/acs5'\n",
    "    cols= 'B19013_001E'\n",
    "    for_loop = 'zip%20code%20tabulation%20area' #'block%20group'\n",
    "    dict = {}\n",
    "    for ii, statecode in enumerate(df_state.iterrows()):\n",
    "        state_code  = statecode[1]['State Code']\n",
    "        state_name  = statecode[1]['State']\n",
    "        df = get_census_zipcode_data(year, dsource, cols, state_code, for_loop)\n",
    "        df['state']=state_name\n",
    "        df['state_code']=state_code\n",
    "        df['zipcode'] = df['zipcode'].astype('string').astype('category')\n",
    "        if state_name not in dict.keys():\n",
    "            dict.update({f'{state_name}':{f'{state_code}':df}})\n",
    "    return dict\n",
    "\n",
    "dict = new_func()"
   ]
  },
  {
   "cell_type": "code",
   "execution_count": 32,
   "metadata": {},
   "outputs": [
    {
     "data": {
      "text/plain": [
       "dict_keys(['Pennsylvania', 'California', 'West Virginia', 'Utah', 'New York', 'District of Columbia', 'Alaska', 'Florida', 'South Carolina', 'North Dakota', 'Maine', 'Georgia', 'Alabama', 'New Hampshire', 'Oregon', 'Wyoming', 'Arizona', 'Louisiana', 'Indiana', 'Idaho', 'Connecticut', 'Hawaii', 'Illinois', 'Massachusetts', 'Texas', 'Montana', 'Nebraska', 'Ohio', 'Colorado', 'New Jersey', 'Maryland', 'Virginia', 'Vermont', 'North Carolina', 'Arkansas', 'Washington', 'Kansas', 'Oklahoma', 'Wisconsin', 'Mississippi', 'Missouri', 'Michigan', 'Rhode Island', 'Minnesota', 'Iowa', 'New Mexico', 'Nevada', 'Delaware', 'Puerto Rico', 'Kentucky', 'South Dakota', 'Tennessee'])"
      ]
     },
     "execution_count": 32,
     "metadata": {},
     "output_type": "execute_result"
    }
   ],
   "source": [
    "dict.keys()"
   ]
  },
  {
   "cell_type": "code",
   "execution_count": 33,
   "metadata": {},
   "outputs": [],
   "source": [
    "# get the geojson of the usa\n",
    "geojson_url = 'https://raw.githubusercontent.com/loganpowell/census-js-examples/master/data/ZCTAs-acs-acs5-B19083_001E-GINI.json'\n",
    "geojson_data = json.loads(requests.get(geojson_url).json())"
   ]
  },
  {
   "cell_type": "code",
   "execution_count": 46,
   "metadata": {},
   "outputs": [],
   "source": [
    "def geojson_func():\n",
    "    for state in dict.keys():\n",
    "    # print(dict[state])\n",
    "        for statecode in dict[state]:\n",
    "                    # print(dict[state][statecode]['zipcode'])\n",
    "            inziplist = []\n",
    "            for ft in geojson_data['features']:\n",
    "                if ft['properties']['ZCTA5CE10'] in list(dict[state][statecode]['zipcode']):\n",
    "            # print(ft['properties']['ZCTA5CE10'])\n",
    "                    inziplist.append(ft)\n",
    "            # print(len(inziplist))\n",
    "            new_zip_json = {}\n",
    "            new_zip_json['type'] = 'FeatureCollection'\n",
    "            new_zip_json['features'] = inziplist\n",
    "            new_zip_json = json.loads(json.dumps(new_zip_json))\n",
    "        with open(f\"./geojson_file/{state.replace(' ' , '_')}_StateCode_{statecode}.json\", mode=\"w\", encoding=\"utf-8\") as write_file:\n",
    "            json.dump(new_zip_json, write_file)\n",
    "\n",
    "geojson_func()"
   ]
  },
  {
   "cell_type": "markdown",
   "metadata": {},
   "source": [
    "##### conduct data qaulity checks"
   ]
  },
  {
   "cell_type": "code",
   "execution_count": 35,
   "metadata": {},
   "outputs": [],
   "source": [
    "df_zipcode = pd.concat(dict[i][j] for i in dict.keys() for j in dict[i].keys())"
   ]
  },
  {
   "cell_type": "code",
   "execution_count": 36,
   "metadata": {},
   "outputs": [],
   "source": [
    "df_zipcode.to_csv(\"zipcode.csv\", index=False)"
   ]
  },
  {
   "cell_type": "code",
   "execution_count": 41,
   "metadata": {},
   "outputs": [],
   "source": [
    "df_zipcode=pd.read_csv(\"zipcode.csv\", dtype = {'zipcode':'category','state_code': 'category', 'state': 'category'})\n"
   ]
  },
  {
   "cell_type": "code",
   "execution_count": 42,
   "metadata": {},
   "outputs": [
    {
     "data": {
      "text/plain": [
       "B19013_001E       int64\n",
       "state          category\n",
       "zipcode        category\n",
       "state_code     category\n",
       "dtype: object"
      ]
     },
     "execution_count": 42,
     "metadata": {},
     "output_type": "execute_result"
    }
   ],
   "source": [
    "df_zipcode.dtypes"
   ]
  },
  {
   "cell_type": "code",
   "execution_count": 44,
   "metadata": {},
   "outputs": [],
   "source": [
    "## using ydata-profile for data quality checks\n",
    "profile = ProfileReport(df_zipcode, title=\" Census Zipcode Data Profiling Report\")"
   ]
  },
  {
   "cell_type": "code",
   "execution_count": 45,
   "metadata": {},
   "outputs": [
    {
     "data": {
      "application/vnd.jupyter.widget-view+json": {
       "model_id": "147172a06b874ced9aa2be27c3c246c4",
       "version_major": 2,
       "version_minor": 0
      },
      "text/plain": [
       "Summarize dataset:   0%|          | 0/5 [00:00<?, ?it/s]"
      ]
     },
     "metadata": {},
     "output_type": "display_data"
    },
    {
     "data": {
      "application/vnd.jupyter.widget-view+json": {
       "model_id": "dea2ba93ad3f44bda06f71cf98fa30f2",
       "version_major": 2,
       "version_minor": 0
      },
      "text/plain": [
       "Generate report structure:   0%|          | 0/1 [00:00<?, ?it/s]"
      ]
     },
     "metadata": {},
     "output_type": "display_data"
    },
    {
     "data": {
      "application/vnd.jupyter.widget-view+json": {
       "model_id": "1d29a690bccf45669f061d40401d3aba",
       "version_major": 2,
       "version_minor": 0
      },
      "text/plain": [
       "Render HTML:   0%|          | 0/1 [00:00<?, ?it/s]"
      ]
     },
     "metadata": {},
     "output_type": "display_data"
    },
    {
     "data": {
      "application/vnd.jupyter.widget-view+json": {
       "model_id": "a1a53a4d9789480e8e47daf65d3c70f4",
       "version_major": 2,
       "version_minor": 0
      },
      "text/plain": [
       "Export report to file:   0%|          | 0/1 [00:00<?, ?it/s]"
      ]
     },
     "metadata": {},
     "output_type": "display_data"
    }
   ],
   "source": [
    "profile.to_file(\"qa_report.html\")"
   ]
  },
  {
   "cell_type": "code",
   "execution_count": 35,
   "metadata": {},
   "outputs": [
    {
     "ename": "TypeError",
     "evalue": "dict['New Jersey'] is not a generic class",
     "output_type": "error",
     "traceback": [
      "\u001b[0;31m---------------------------------------------------------------------------\u001b[0m",
      "\u001b[0;31mTypeError\u001b[0m                                 Traceback (most recent call last)",
      "Cell \u001b[0;32mIn[35], line 7\u001b[0m\n\u001b[1;32m      4\u001b[0m     geojson_state \u001b[38;5;241m=\u001b[39m json\u001b[38;5;241m.\u001b[39mload(f)\n\u001b[1;32m      5\u001b[0m \u001b[38;5;66;03m# Create the choropleth map\u001b[39;00m\n\u001b[1;32m      6\u001b[0m fig \u001b[38;5;241m=\u001b[39m px\u001b[38;5;241m.\u001b[39mchoropleth(\n\u001b[0;32m----> 7\u001b[0m     \u001b[38;5;28;43mdict\u001b[39;49m\u001b[43m[\u001b[49m\u001b[38;5;124;43m'\u001b[39;49m\u001b[38;5;124;43mNew Jersey\u001b[39;49m\u001b[38;5;124;43m'\u001b[39;49m\u001b[43m]\u001b[49m\u001b[43m[\u001b[49m\u001b[38;5;124;43m'\u001b[39;49m\u001b[38;5;124;43m34\u001b[39;49m\u001b[38;5;124;43m'\u001b[39;49m\u001b[43m]\u001b[49m, \n\u001b[1;32m      8\u001b[0m     geojson\u001b[38;5;241m=\u001b[39mgeojson_state,  \u001b[38;5;66;03m# GeoJSON file for ZIP boundaries\u001b[39;00m\n\u001b[1;32m      9\u001b[0m     locations\u001b[38;5;241m=\u001b[39m\u001b[38;5;124m\"\u001b[39m\u001b[38;5;124mzipcode\u001b[39m\u001b[38;5;124m\"\u001b[39m,  \u001b[38;5;66;03m# Column in your DataFrame that has ZIP codes\u001b[39;00m\n\u001b[1;32m     10\u001b[0m     featureidkey\u001b[38;5;241m=\u001b[39m\u001b[38;5;124m\"\u001b[39m\u001b[38;5;124mproperties.ZCTA5CE10\u001b[39m\u001b[38;5;124m\"\u001b[39m,  \u001b[38;5;66;03m# The matching ZIP code field in GeoJSON\u001b[39;00m\n\u001b[1;32m     11\u001b[0m     color\u001b[38;5;241m=\u001b[39m\u001b[38;5;124m\"\u001b[39m\u001b[38;5;124mB19013_001E\u001b[39m\u001b[38;5;124m\"\u001b[39m,  \u001b[38;5;66;03m# The column in your DataFrame to color by\u001b[39;00m\n\u001b[1;32m     12\u001b[0m     color_continuous_scale\u001b[38;5;241m=\u001b[39m\u001b[38;5;124m\"\u001b[39m\u001b[38;5;124mViridis\u001b[39m\u001b[38;5;124m\"\u001b[39m,  \u001b[38;5;66;03m# Color scale (you can choose other scales)\u001b[39;00m\n\u001b[1;32m     13\u001b[0m     title\u001b[38;5;241m=\u001b[39m\u001b[38;5;124m\"\u001b[39m\u001b[38;5;124mMedian Household Income by ZIP Code\u001b[39m\u001b[38;5;124m\"\u001b[39m\n\u001b[1;32m     14\u001b[0m )\n\u001b[1;32m     15\u001b[0m \u001b[38;5;66;03m# Update the map for better visuals\u001b[39;00m\n\u001b[1;32m     16\u001b[0m fig\u001b[38;5;241m.\u001b[39mupdate_geos(\n\u001b[1;32m     17\u001b[0m     fitbounds\u001b[38;5;241m=\u001b[39m\u001b[38;5;124m\"\u001b[39m\u001b[38;5;124mlocations\u001b[39m\u001b[38;5;124m\"\u001b[39m,  \u001b[38;5;66;03m# Zoom to fit the data\u001b[39;00m\n\u001b[1;32m     18\u001b[0m     visible\u001b[38;5;241m=\u001b[39m\u001b[38;5;28;01mFalse\u001b[39;00m  \u001b[38;5;66;03m# Hide the base map\u001b[39;00m\n\u001b[1;32m     19\u001b[0m )\n",
      "\u001b[0;31mTypeError\u001b[0m: dict['New Jersey'] is not a generic class"
     ]
    }
   ],
   "source": [
    "# Open the JSON file\n",
    "with open('./geojson_file/New_Jersey_StateCode_34.json') as f:\n",
    "    # Load the JSON data into a Python dictionary\n",
    "    geojson_state = json.load(f)\n",
    "# Create the choropleth map\n",
    "fig = px.choropleth(\n",
    "    dict['New Jersey']['34'], \n",
    "    geojson=geojson_state,  # GeoJSON file for ZIP boundaries\n",
    "    locations=\"zipcode\",  # Column in your DataFrame that has ZIP codes\n",
    "    featureidkey=\"properties.ZCTA5CE10\",  # The matching ZIP code field in GeoJSON\n",
    "    color=\"B19013_001E\",  # The column in your DataFrame to color by\n",
    "    color_continuous_scale=\"Viridis\",  # Color scale (you can choose other scales)\n",
    "    title=\"Median Household Income by ZIP Code\"\n",
    ")\n",
    "# Update the map for better visuals\n",
    "fig.update_geos(\n",
    "    fitbounds=\"locations\",  # Zoom to fit the data\n",
    "    visible=False  # Hide the base map\n",
    ")\n",
    "# Show the map\n",
    "fig.show()"
   ]
  }
 ],
 "metadata": {
  "kernelspec": {
   "display_name": "bin",
   "language": "python",
   "name": "python3"
  },
  "language_info": {
   "codemirror_mode": {
    "name": "ipython",
    "version": 3
   },
   "file_extension": ".py",
   "mimetype": "text/x-python",
   "name": "python",
   "nbconvert_exporter": "python",
   "pygments_lexer": "ipython3",
   "version": "3.12.6"
  }
 },
 "nbformat": 4,
 "nbformat_minor": 4
}
