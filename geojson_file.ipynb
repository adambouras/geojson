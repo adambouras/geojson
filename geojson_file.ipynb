{
 "cells": [
  {
   "cell_type": "code",
   "execution_count": null,
   "metadata": {},
   "outputs": [],
   "source": [
    "import requests\n",
    "import pandas as pd\n",
    "import plotly.express as px\n",
    "from census_api import CENSUS_API_KEY\n",
    "import json\n",
    "import duckdb as db\n",
    "from ydata_profiling import ProfileReport\n",
    "from IPython.display import HTML"
   ]
  },
  {
   "cell_type": "markdown",
   "metadata": {},
   "source": [
    "#### Get all the data from census bureau api for state and state code"
   ]
  },
  {
   "cell_type": "code",
   "execution_count": null,
   "metadata": {},
   "outputs": [],
   "source": [
    "# get the state and code\n",
    "# Step 1: Fetch U.S. Census data using the Census API\n",
    "api_key = CENSUS_API_KEY\n",
    "base_url = \"https://api.census.gov/data/2020/dec/pl\"\n",
    "params = {\n",
    "    'get': 'NAME,P1_001N',  # 'NAME' is state name, 'P1_001N' is total population\n",
    "    'for': 'state:*',       # Get data for all states\n",
    "    'key': api_key\n",
    "}\n",
    "\n",
    "response = requests.get(base_url, params=params)\n",
    "\n",
    "# Check if the request was successful\n",
    "if response.status_code == 200:\n",
    "    data = response.json()  # Parse JSON response\n",
    "else:\n",
    "    print(f\"Error: {response.status_code}, {response.text}\")\n",
    "    data = []\n",
    "\n",
    "# Step 2: Convert Census data into a DataFrame\n",
    "if data:\n",
    "    headers = data[0]  # The first row contains headers\n",
    "    rows = data[1:]    # The remaining rows contain the actual data\n",
    "    \n",
    "    # Create DataFrame\n",
    "    df1 = pd.DataFrame(rows, columns=headers)\n",
    "    # Rename columns for easier access\n",
    "    df1['State Code'] = df1['state'].astype('string').astype('category')\n",
    "    df1.rename(columns={'NAME': 'State', 'P1_001N': 'Population'}, inplace=True)\n",
    "    # Convert population to numeric (currently it's in string format)\n",
    "    df1['Population'] = pd.to_numeric(df1['Population'])\n",
    "    \n",
    "else:\n",
    "    print(\"No data available.\")"
   ]
  },
  {
   "cell_type": "markdown",
   "metadata": {},
   "source": [
    "##### get a subset of the data"
   ]
  },
  {
   "cell_type": "code",
   "execution_count": null,
   "metadata": {},
   "outputs": [],
   "source": [
    "df_state = df1[['State', 'State Code']]"
   ]
  },
  {
   "cell_type": "code",
   "execution_count": null,
   "metadata": {},
   "outputs": [],
   "source": [
    "\n",
    "def get_census_zipcode_data(year, dsource, cols, state, for_loop):\n",
    "    BASE_URL = f'https://api.census.gov/data/{year}/{dsource}?get={cols}&for={for_loop}:*&in=state:{state}&key={api_key}'\n",
    "    \"\"\"\n",
    "    Sends a GET request to the specified Census API URL and returns the response.\n",
    "    \n",
    "    Args:\n",
    "        BASE_URL (str): The URL for the Census API request, including the necessary parameters.\n",
    "    \n",
    "    Returns:\n",
    "        requests.Response: The response object from the Census API request.\n",
    "    \"\"\"\n",
    "    response = requests.get(BASE_URL)\n",
    "    if response.status_code == 200:\n",
    "            data = response.json()\n",
    "            df = pd.DataFrame(data[1:], columns=data[0]) # Skip the header row\n",
    "            df['B19013_001E'] = pd.to_numeric(df['B19013_001E'])\n",
    "            df.rename(columns={'zip code tabulation area': 'zipcode'}, inplace=True)\n",
    "            # print(df.head())\n",
    "    else:\n",
    "            print(f\"Error: {response.status_code} - {response.text}\")\n",
    "    return df"
   ]
  },
  {
   "cell_type": "code",
   "execution_count": null,
   "metadata": {},
   "outputs": [],
   "source": [
    "def new_func():\n",
    "    year='2019'\n",
    "    dsource='acs/acs5'\n",
    "    cols= 'B19013_001E'\n",
    "    for_loop = 'zip%20code%20tabulation%20area' #'block%20group'\n",
    "    dict = {}\n",
    "    for ii, statecode in enumerate(df_state.iterrows()):\n",
    "        state_code  = statecode[1]['State Code']\n",
    "        state_name  = statecode[1]['State']\n",
    "        df = get_census_zipcode_data(year, dsource, cols, state_code, for_loop)\n",
    "        df['state']=state_name\n",
    "        df['state_code']=state_code\n",
    "        df['zipcode'] = df['zipcode'].astype('string').astype('category')\n",
    "        if state_name not in dict.keys():\n",
    "            dict.update({f'{state_name}':{f'{state_code}':df}})\n",
    "    return dict\n",
    "\n",
    "dict = new_func()"
   ]
  },
  {
   "cell_type": "code",
   "execution_count": null,
   "metadata": {},
   "outputs": [],
   "source": [
    "dict.keys()"
   ]
  },
  {
   "cell_type": "code",
   "execution_count": null,
   "metadata": {},
   "outputs": [],
   "source": [
    "# get the geojson of the usa\n",
    "geojson_url = 'https://raw.githubusercontent.com/loganpowell/census-js-examples/master/data/ZCTAs-acs-acs5-B19083_001E-GINI.json'\n",
    "geojson_data_USA = json.loads(requests.get(geojson_url).json())"
   ]
  },
  {
   "cell_type": "code",
   "execution_count": null,
   "metadata": {},
   "outputs": [],
   "source": [
    "def geojson_func():\n",
    "    for state in dict.keys():\n",
    "    # print(dict[state])\n",
    "        for statecode in dict[state]:\n",
    "                    # print(dict[state][statecode]['zipcode'])\n",
    "            inziplist = []\n",
    "            for ft in geojson_data_USA['features']:\n",
    "                if ft['properties']['ZCTA5CE10'] in list(dict[state][statecode]['zipcode']):\n",
    "            # print(ft['properties']['ZCTA5CE10'])\n",
    "                    inziplist.append(ft)\n",
    "            # print(len(inziplist))\n",
    "            new_zip_json = {}\n",
    "            new_zip_json['type'] = 'FeatureCollection'\n",
    "            new_zip_json['features'] = inziplist\n",
    "            new_zip_json = json.loads(json.dumps(new_zip_json))\n",
    "        with open(f\"./geojson_file/{state.replace(' ' , '_')}_StateCode_{statecode}.json\", mode=\"w\", encoding=\"utf-8\") as write_file:\n",
    "            json.dump(new_zip_json, write_file)\n",
    "\n",
    "geojson_func()"
   ]
  },
  {
   "cell_type": "markdown",
   "metadata": {},
   "source": [
    "##### conduct data qaulity checks"
   ]
  },
  {
   "cell_type": "code",
   "execution_count": null,
   "metadata": {},
   "outputs": [],
   "source": [
    "df_zipcode = pd.concat(dict[i][j] for i in dict.keys() for j in dict[i].keys())"
   ]
  },
  {
   "cell_type": "code",
   "execution_count": null,
   "metadata": {},
   "outputs": [],
   "source": [
    "df_zipcode.to_csv(\"zipcode.csv\", index=False)"
   ]
  },
  {
   "cell_type": "code",
   "execution_count": null,
   "metadata": {},
   "outputs": [],
   "source": [
    "df_zipcode=pd.read_csv(\"zipcode.csv\", dtype = {'zipcode':'category','state_code': 'category', 'state': 'category', 'B19013_001E':'float'})\n"
   ]
  },
  {
   "cell_type": "code",
   "execution_count": null,
   "metadata": {},
   "outputs": [],
   "source": [
    "df_zipcode.dtypes"
   ]
  },
  {
   "cell_type": "code",
   "execution_count": null,
   "metadata": {},
   "outputs": [],
   "source": [
    "## using ydata-profile for data quality checks\n",
    "profile = ProfileReport(df_zipcode, title=\" Census Zipcode Data Profiling Report\")"
   ]
  },
  {
   "cell_type": "code",
   "execution_count": null,
   "metadata": {},
   "outputs": [],
   "source": [
    "profile.to_file(\"qa_report.html\")"
   ]
  },
  {
   "cell_type": "code",
   "execution_count": null,
   "metadata": {},
   "outputs": [],
   "source": [
    "df_zipcode.loc[(df_zipcode['state_code']=='34') & (df_zipcode['B19013_001E']>0)].dtypes"
   ]
  },
  {
   "cell_type": "code",
   "execution_count": null,
   "metadata": {},
   "outputs": [],
   "source": [
    "df_state = df_zipcode[['state_code', 'state']].drop_duplicates()"
   ]
  },
  {
   "cell_type": "code",
   "execution_count": null,
   "metadata": {},
   "outputs": [],
   "source": [
    "df_state.reset_index(drop=True, inplace=True)"
   ]
  },
  {
   "cell_type": "code",
   "execution_count": null,
   "metadata": {},
   "outputs": [],
   "source": [
    "fig"
   ]
  },
  {
   "cell_type": "code",
   "execution_count": null,
   "metadata": {},
   "outputs": [],
   "source": [
    "from plotly.subplots import make_subplots as msubplot\n",
    "import plotly.graph_objects as go\n",
    "\n",
    "# Open the JSON file\n",
    "\n",
    "# Create the choropleth map\n",
    "fig = go.Figure(go.Choropleth( geojson = geojson_data_USA, \n",
    "                              locationmode = \"USA-states\",\n",
    "                                  locations = df_zipcode.zipcode,\n",
    "                                 z = df_zipcode[(df_zipcode['B19013_001E']>0)],\n",
    "                                # color=\"B19013_001E\",\n",
    "                                colorscale=\"Viridis\", marker_opacity=0.5, marker_line_width=0\n",
    "                                ))\n",
    "fig.update_layout(map_style=\"carto-positron\",\n",
    "                  map_zoom=3, map_center = {\"lat\": 37.0902, \"lon\": -95.7129})\n",
    "fig.update_layout(margin={\"r\":0,\"t\":0,\"l\":0,\"b\":0})\n",
    "            # Show the map\n",
    "fig.show()"
   ]
  },
  {
   "cell_type": "code",
   "execution_count": null,
   "metadata": {},
   "outputs": [],
   "source": [
    "from plotly.subplots import make_subplots as msubplot\n",
    "import plotly.graph_objects as go\n",
    "# fig  =  msubplot(rows = 2, cols = 2)\n",
    "\n",
    "# Open the JSON file\n",
    "for  state in df_state.iterrows():\n",
    "    if state[0]<4:\n",
    "        with open(f'./geojson_file/{state[1]['state'].replace(' ' , '_')}_StateCode_{state[1]['state_code']}.json') as f:\n",
    "                # Load the JSON data into a Python dictionary\n",
    "            geojson_state = json.load(f)\n",
    "            df = df_zipcode.loc[(df_zipcode['state_code']==state[1]['state_code']) & (df_zipcode['B19013_001E']>0)]\n",
    "                    # Create the choropleth map\n",
    "            fig = px.choropleth(df, geojson = geojson_state, featureidkey=\"properties.ZCTA5CE10\", \n",
    "                                locations = 'zipcode',\n",
    "                                title = f'{state[1][\"state\"]} - Zipcode Income',\n",
    "                                color=\"B19013_001E\",\n",
    "                                 color_continuous_scale=\"Viridis\"\n",
    "                                )\n",
    "            # df = df_zipcode.loc[(df_zipcode['state_code']==state[1]['state_code']) & (df_zipcode['B19013_001E']>0)]\n",
    "            # fig.add_trace(px.choropleth(\n",
    "            #             df, \n",
    "            #             geojson=geojson_state,  # GeoJSON file for ZIP boundaries\n",
    "            #             locations=\"zipcode\",  # Column in your DataFrame that has ZIP codes\n",
    "            #             featureidkey=\"properties.ZCTA5CE10\",  # The matching ZIP code field in GeoJSON\n",
    "            #             color=\"B19013_001E\",  # The column in your DataFrame to color by\n",
    "            #             color_continuous_scale=\"Viridis\",  # Color scale (you can choose other scales)\n",
    "            #             title=\"Median Household Income by ZIP Code\"\n",
    "            #         ), row=state[0], col = state[0])\n",
    "  #Update the map for better visuals\n",
    "\n",
    "            fig.update_geos(\n",
    "                    fitbounds=\"locations\",  # Zoom to fit the data\n",
    "                    visible=False  # Hide the base map\n",
    "                )\n",
    "            # Show the map\n",
    "            fig.show()"
   ]
  }
 ],
 "metadata": {
  "kernelspec": {
   "display_name": "geojsonvenv",
   "language": "python",
   "name": "python3"
  },
  "language_info": {
   "codemirror_mode": {
    "name": "ipython",
    "version": 3
   },
   "file_extension": ".py",
   "mimetype": "text/x-python",
   "name": "python",
   "nbconvert_exporter": "python",
   "pygments_lexer": "ipython3",
   "version": "3.12.6"
  }
 },
 "nbformat": 4,
 "nbformat_minor": 4
}
